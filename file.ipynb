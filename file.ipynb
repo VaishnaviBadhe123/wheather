{
  "nbformat": 4,
  "nbformat_minor": 0,
  "metadata": {
    "colab": {
      "provenance": []
    },
    "kernelspec": {
      "name": "python3",
      "display_name": "Python 3"
    },
    "language_info": {
      "name": "python"
    }
  },
  "cells": [
    {
      "cell_type": "code",
      "execution_count": null,
      "metadata": {
        "colab": {
          "base_uri": "https://localhost:8080/"
        },
        "id": "XbhKa4Sb7LYv",
        "outputId": "ae49e3ba-1f5d-4b8d-adef-e5e7ae4b3e69"
      },
      "outputs": [
        {
          "output_type": "stream",
          "name": "stdout",
          "text": [
            "Requirement already satisfied: requests in /usr/local/lib/python3.11/dist-packages (2.32.3)\n",
            "Requirement already satisfied: charset-normalizer<4,>=2 in /usr/local/lib/python3.11/dist-packages (from requests) (3.4.1)\n",
            "Requirement already satisfied: idna<4,>=2.5 in /usr/local/lib/python3.11/dist-packages (from requests) (3.10)\n",
            "Requirement already satisfied: urllib3<3,>=1.21.1 in /usr/local/lib/python3.11/dist-packages (from requests) (2.3.0)\n",
            "Requirement already satisfied: certifi>=2017.4.17 in /usr/local/lib/python3.11/dist-packages (from requests) (2025.1.31)\n"
          ]
        }
      ],
      "source": [
        "!pip install requests"
      ]
    },
    {
      "cell_type": "markdown",
      "source": [],
      "metadata": {
        "id": "UxZowaQB7U7R"
      }
    },
    {
      "cell_type": "code",
      "source": [
        "import requests\n",
        "\n",
        "API_KEY = 'd7c400146cdd92fdeb56a36aeddfc297'\n",
        "BASE_URL = 'http://api.openweathermap.org/data/2.5/weather'\n",
        "\n",
        "def weather(city):\n",
        "    \"\"\"\n",
        "    Fetches and returns the weather information for the specified city using OpenWeatherMap API.\n",
        "\n",
        "    :param city: Name of the city\n",
        "    :return: A dictionary containing location, weather description, and temperature\n",
        "    \"\"\"\n",
        "    params = {\n",
        "        'q': city,\n",
        "        'appid': API_KEY,\n",
        "        'units': 'metric'\n",
        "    }\n",
        "    try:\n",
        "        res = requests.get(BASE_URL, params=params)\n",
        "        res.raise_for_status()\n",
        "        data = res.json()\n",
        "\n",
        "       # print(\"API response:\", data)\n",
        "\n",
        "        location = data['name']\n",
        "        weather_description = data['weather'][0]['description']\n",
        "        temperature = data['main']['temp']\n",
        "        return {\n",
        "            \"location\": location,\n",
        "            \"description\": weather_description,\n",
        "            \"temperature\": f\"{temperature}°C\"\n",
        "        }\n",
        "    except Exception as e:\n",
        "        print(\"Error fetching weather data:\", e)\n",
        "        return None\n",
        "\n",
        "city = input(\"Enter the Name of City -> \")\n",
        "weather_info = weather(city)\n",
        "if weather_info:\n",
        "    print(weather_info)\n",
        "print(\"Have a Nice Day:)\")\n",
        "\n",
        "# This code is contributed by adityatri, with enhancements\n"
      ],
      "metadata": {
        "colab": {
          "base_uri": "https://localhost:8080/"
        },
        "id": "zlCKGuj27VTx",
        "outputId": "15ee9d13-c3d8-4630-ac90-7fd0ef1a2cce"
      },
      "execution_count": null,
      "outputs": [
        {
          "output_type": "stream",
          "name": "stdout",
          "text": [
            "Enter the Name of City -> pune\n",
            "{'location': 'Pune', 'description': 'clear sky', 'temperature': '28.55°C'}\n",
            "Have a Nice Day:)\n"
          ]
        }
      ]
    }
  ]
}